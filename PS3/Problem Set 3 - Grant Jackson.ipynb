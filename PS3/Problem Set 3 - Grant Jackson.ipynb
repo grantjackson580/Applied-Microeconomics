{
 "cells": [
  {
   "cell_type": "code",
   "execution_count": 1,
   "id": "92ca7c2a-4bec-4b58-a5c3-7b6913b1abcd",
   "metadata": {},
   "outputs": [
    {
     "data": {
      "text/html": [
       "<div>\n",
       "<style scoped>\n",
       "    .dataframe tbody tr th:only-of-type {\n",
       "        vertical-align: middle;\n",
       "    }\n",
       "\n",
       "    .dataframe tbody tr th {\n",
       "        vertical-align: top;\n",
       "    }\n",
       "\n",
       "    .dataframe thead th {\n",
       "        text-align: right;\n",
       "    }\n",
       "</style>\n",
       "<table border=\"1\" class=\"dataframe\">\n",
       "  <thead>\n",
       "    <tr style=\"text-align: right;\">\n",
       "      <th></th>\n",
       "      <th>year</th>\n",
       "      <th>country</th>\n",
       "      <th>co</th>\n",
       "      <th>type</th>\n",
       "      <th>segment</th>\n",
       "      <th>domestic</th>\n",
       "      <th>firm</th>\n",
       "      <th>brand</th>\n",
       "      <th>loc</th>\n",
       "      <th>qu</th>\n",
       "      <th>...</th>\n",
       "      <th>weight</th>\n",
       "      <th>pop</th>\n",
       "      <th>ngdp</th>\n",
       "      <th>ngdpe</th>\n",
       "      <th>country1</th>\n",
       "      <th>country2</th>\n",
       "      <th>country3</th>\n",
       "      <th>country4</th>\n",
       "      <th>country5</th>\n",
       "      <th>yearsquared</th>\n",
       "    </tr>\n",
       "  </thead>\n",
       "  <tbody>\n",
       "    <tr>\n",
       "      <th>0</th>\n",
       "      <td>1983</td>\n",
       "      <td>Belgium</td>\n",
       "      <td>1</td>\n",
       "      <td>alfa 33</td>\n",
       "      <td>compact</td>\n",
       "      <td>0</td>\n",
       "      <td>AlfaRomeo</td>\n",
       "      <td>AlfaRomeo</td>\n",
       "      <td>Italy</td>\n",
       "      <td>729.0</td>\n",
       "      <td>...</td>\n",
       "      <td>890</td>\n",
       "      <td>9860000.0</td>\n",
       "      <td>4.188800e+12</td>\n",
       "      <td>234000000.0</td>\n",
       "      <td>1</td>\n",
       "      <td>0</td>\n",
       "      <td>0</td>\n",
       "      <td>0</td>\n",
       "      <td>0</td>\n",
       "      <td>3932289.0</td>\n",
       "    </tr>\n",
       "    <tr>\n",
       "      <th>1</th>\n",
       "      <td>1984</td>\n",
       "      <td>Belgium</td>\n",
       "      <td>1</td>\n",
       "      <td>alfa 33</td>\n",
       "      <td>compact</td>\n",
       "      <td>0</td>\n",
       "      <td>AlfaRomeo</td>\n",
       "      <td>AlfaRomeo</td>\n",
       "      <td>Italy</td>\n",
       "      <td>1860.0</td>\n",
       "      <td>...</td>\n",
       "      <td>890</td>\n",
       "      <td>9860000.0</td>\n",
       "      <td>4.512600e+12</td>\n",
       "      <td>234000000.0</td>\n",
       "      <td>1</td>\n",
       "      <td>0</td>\n",
       "      <td>0</td>\n",
       "      <td>0</td>\n",
       "      <td>0</td>\n",
       "      <td>3936256.0</td>\n",
       "    </tr>\n",
       "    <tr>\n",
       "      <th>2</th>\n",
       "      <td>1985</td>\n",
       "      <td>Belgium</td>\n",
       "      <td>1</td>\n",
       "      <td>alfa 33</td>\n",
       "      <td>compact</td>\n",
       "      <td>0</td>\n",
       "      <td>AlfaRomeo</td>\n",
       "      <td>AlfaRomeo</td>\n",
       "      <td>Italy</td>\n",
       "      <td>1771.0</td>\n",
       "      <td>...</td>\n",
       "      <td>890</td>\n",
       "      <td>9860000.0</td>\n",
       "      <td>4.834400e+12</td>\n",
       "      <td>234000000.0</td>\n",
       "      <td>1</td>\n",
       "      <td>0</td>\n",
       "      <td>0</td>\n",
       "      <td>0</td>\n",
       "      <td>0</td>\n",
       "      <td>3940225.0</td>\n",
       "    </tr>\n",
       "    <tr>\n",
       "      <th>3</th>\n",
       "      <td>1986</td>\n",
       "      <td>Belgium</td>\n",
       "      <td>1</td>\n",
       "      <td>alfa 33</td>\n",
       "      <td>compact</td>\n",
       "      <td>0</td>\n",
       "      <td>AlfaRomeo</td>\n",
       "      <td>AlfaRomeo</td>\n",
       "      <td>Italy</td>\n",
       "      <td>2047.0</td>\n",
       "      <td>...</td>\n",
       "      <td>890</td>\n",
       "      <td>9860000.0</td>\n",
       "      <td>5.084900e+12</td>\n",
       "      <td>234000000.0</td>\n",
       "      <td>1</td>\n",
       "      <td>0</td>\n",
       "      <td>0</td>\n",
       "      <td>0</td>\n",
       "      <td>0</td>\n",
       "      <td>3944196.0</td>\n",
       "    </tr>\n",
       "    <tr>\n",
       "      <th>4</th>\n",
       "      <td>1987</td>\n",
       "      <td>Belgium</td>\n",
       "      <td>1</td>\n",
       "      <td>alfa 33</td>\n",
       "      <td>compact</td>\n",
       "      <td>0</td>\n",
       "      <td>Fiat</td>\n",
       "      <td>AlfaRomeo</td>\n",
       "      <td>Italy</td>\n",
       "      <td>2147.0</td>\n",
       "      <td>...</td>\n",
       "      <td>910</td>\n",
       "      <td>9870000.0</td>\n",
       "      <td>5.318700e+12</td>\n",
       "      <td>234000000.0</td>\n",
       "      <td>1</td>\n",
       "      <td>0</td>\n",
       "      <td>0</td>\n",
       "      <td>0</td>\n",
       "      <td>0</td>\n",
       "      <td>3948169.0</td>\n",
       "    </tr>\n",
       "  </tbody>\n",
       "</table>\n",
       "<p>5 rows × 27 columns</p>\n",
       "</div>"
      ],
      "text/plain": [
       "   year  country  co     type  segment  domestic       firm      brand    loc  \\\n",
       "0  1983  Belgium   1  alfa 33  compact         0  AlfaRomeo  AlfaRomeo  Italy   \n",
       "1  1984  Belgium   1  alfa 33  compact         0  AlfaRomeo  AlfaRomeo  Italy   \n",
       "2  1985  Belgium   1  alfa 33  compact         0  AlfaRomeo  AlfaRomeo  Italy   \n",
       "3  1986  Belgium   1  alfa 33  compact         0  AlfaRomeo  AlfaRomeo  Italy   \n",
       "4  1987  Belgium   1  alfa 33  compact         0       Fiat  AlfaRomeo  Italy   \n",
       "\n",
       "       qu  ...  weight        pop          ngdp        ngdpe  country1  \\\n",
       "0   729.0  ...     890  9860000.0  4.188800e+12  234000000.0         1   \n",
       "1  1860.0  ...     890  9860000.0  4.512600e+12  234000000.0         1   \n",
       "2  1771.0  ...     890  9860000.0  4.834400e+12  234000000.0         1   \n",
       "3  2047.0  ...     890  9860000.0  5.084900e+12  234000000.0         1   \n",
       "4  2147.0  ...     910  9870000.0  5.318700e+12  234000000.0         1   \n",
       "\n",
       "   country2  country3  country4  country5  yearsquared  \n",
       "0         0         0         0         0    3932289.0  \n",
       "1         0         0         0         0    3936256.0  \n",
       "2         0         0         0         0    3940225.0  \n",
       "3         0         0         0         0    3944196.0  \n",
       "4         0         0         0         0    3948169.0  \n",
       "\n",
       "[5 rows x 27 columns]"
      ]
     },
     "execution_count": 1,
     "metadata": {},
     "output_type": "execute_result"
    }
   ],
   "source": [
    "# Importing dataset\n",
    "import pandas as pd\n",
    "import numpy as np\n",
    "import matplotlib.pyplot as plt\n",
    "\n",
    "df = pd.read_stata(\"C:\\\\Users\\gmoor\\Documents\\Applied Microeconomics\\Data\\cars1.dta\")\n",
    "\n",
    "df.head()"
   ]
  },
  {
   "cell_type": "markdown",
   "id": "427e4b68-9711-480f-8f9b-b75202acb39a",
   "metadata": {},
   "source": [
    "# (a) Summary statistics and correlation between LogPrice and LogQuantity:"
   ]
  },
  {
   "cell_type": "code",
   "execution_count": 2,
   "id": "c6685ada-c9e6-4889-95be-ba2c772c6d26",
   "metadata": {},
   "outputs": [
    {
     "name": "stdout",
     "output_type": "stream",
     "text": [
      "                  qu            pr\n",
      "count   11483.000000  1.148300e+04\n",
      "mean    19911.439453  2.857566e+06\n",
      "std     37803.589844  8.237671e+06\n",
      "min        51.000000  4.980000e+02\n",
      "25%      1992.500000  1.324500e+04\n",
      "50%      6262.000000  5.590000e+04\n",
      "75%     18855.500000  4.136750e+05\n",
      "max    433694.000000  1.166610e+08\n"
     ]
    },
    {
     "data": {
      "image/png": "[encoded data removed]",
      "text/plain": [
       "<Figure size 640x480 with 1 Axes>"
      ]
     },
     "metadata": {},
     "output_type": "display_data"
    },
    {
     "data": {
      "image/png": "[encoded data removed]",
      "text/plain": [
       "<Figure size 640x480 with 1 Axes>"
      ]
     },
     "metadata": {},
     "output_type": "display_data"
    },
    {
     "name": "stdout",
     "output_type": "stream",
     "text": [
      "country\n",
      "Belgium    2641\n",
      "UK         2289\n",
      "Germany    2281\n",
      "France     2252\n",
      "Italy      2020\n",
      "Name: count, dtype: int64\n"
     ]
    },
    {
     "data": {
      "image/png": "[encoded data removed]",
      "text/plain": [
       "<Figure size 640x480 with 1 Axes>"
      ]
     },
     "metadata": {},
     "output_type": "display_data"
    },
    {
     "name": "stdout",
     "output_type": "stream",
     "text": [
      "Correlation between log(price) and log(quantity):           lnp       lnq\n",
      "lnp  1.000000 -0.135325\n",
      "lnq -0.135325  1.000000\n"
     ]
    }
   ],
   "source": [
    "# Summary statistics for 'quantity' and 'price'\n",
    "print(df[['qu', 'pr']].describe())\n",
    "\n",
    "# Histogram of 'quantity'\n",
    "df['qu'].hist(bins=30)\n",
    "plt.title('Histogram of Quantity')\n",
    "plt.xlabel('Quantity')\n",
    "plt.ylabel('Frequency')\n",
    "plt.show()\n",
    "\n",
    "# Histogram of 'price'\n",
    "df['pr'].hist(bins=30)\n",
    "plt.title('Histogram of Price')\n",
    "plt.xlabel('Price')\n",
    "plt.ylabel('Frequency')\n",
    "plt.show()\n",
    "\n",
    "# Tabulate 'country'\n",
    "print(df['country'].value_counts())\n",
    "\n",
    "# Log transformations\n",
    "df['lnq'] = np.log(df['qu'])\n",
    "df['lnp'] = np.log(df['pr'])\n",
    "\n",
    "# Scatter plot of log(price) vs log(quantity)\n",
    "plt.scatter(df['lnp'], df['lnq'])\n",
    "plt.title('Scatter plot of Log Price vs Log Quantity')\n",
    "plt.xlabel('Log Price')\n",
    "plt.ylabel('Log Quantity')\n",
    "plt.show()\n",
    "\n",
    "# Calculate and print correlation between log price and log quantity\n",
    "print(\"Correlation between log(price) and log(quantity):\", df[['lnp', 'lnq']].corr())"
   ]
  },
  {
   "cell_type": "markdown",
   "id": "75c098d6-a5bf-4d2d-9758-fd2457792a98",
   "metadata": {},
   "source": [
    "# (b) OLS-Fixed effects estimator of the standard logic model:"
   ]
  },
  {
   "cell_type": "code",
   "execution_count": 3,
   "id": "c58009e9-ad7c-4f8c-b72a-9f97e5bb63c2",
   "metadata": {},
   "outputs": [
    {
     "name": "stderr",
     "output_type": "stream",
     "text": [
      "C:\\Users\\gmoor\\AppData\\Local\\Temp\\ipykernel_14212\\2935626821.py:10: FutureWarning: The default of observed=False is deprecated and will be changed to True in a future version of pandas. Pass observed=False to retain current behavior or observed=True to adopt the future default and silence this warning.\n",
      "  df['sum_share'] = df.groupby(['country', 'year'])['share'].transform('sum')\n"
     ]
    },
    {
     "name": "stdout",
     "output_type": "stream",
     "text": [
      "                            OLS Regression Results                            \n",
      "==============================================================================\n",
      "Dep. Variable:                lsj_ls0   R-squared:                       0.574\n",
      "Model:                            OLS   Adj. R-squared:                  0.571\n",
      "Method:                 Least Squares   F-statistic:                     215.7\n",
      "Date:                Mon, 30 Sep 2024   Prob (F-statistic):               0.00\n",
      "Time:                        22:31:41   Log-Likelihood:                -16060.\n",
      "No. Observations:               11483   AIC:                         3.228e+04\n",
      "Df Residuals:                   11403   BIC:                         3.287e+04\n",
      "Df Model:                          79                                         \n",
      "Covariance Type:                  HC3                                         \n",
      "=====================================================================================================\n",
      "                                        coef    std err          z      P>|z|      [0.025      0.975]\n",
      "-----------------------------------------------------------------------------------------------------\n",
      "Intercept                           -25.4813      3.676     -6.931      0.000     -32.687     -18.276\n",
      "C(country)[T.France]                 -2.1647      0.337     -6.425      0.000      -2.825      -1.504\n",
      "C(country)[T.Germany]                -2.1353      0.377     -5.663      0.000      -2.874      -1.396\n",
      "C(country)[T.Italy]                  -2.5403      0.453     -5.605      0.000      -3.429      -1.652\n",
      "C(country)[T.UK]                     -1.4538      0.341     -4.265      0.000      -2.122      -0.786\n",
      "C(year)[T.1971]                      -0.0607      0.097     -0.628      0.530      -0.250       0.129\n",
      "C(year)[T.1972]                       0.0047      0.094      0.050      0.960      -0.180       0.189\n",
      "C(year)[T.1973]                       0.0329      0.099      0.333      0.739      -0.160       0.226\n",
      "C(year)[T.1974]                      -0.2245      0.093     -2.407      0.016      -0.407      -0.042\n",
      "C(year)[T.1975]                      -0.1367      0.094     -1.455      0.146      -0.321       0.047\n",
      "C(year)[T.1976]                      -0.0794      0.098     -0.812      0.417      -0.271       0.112\n",
      "C(year)[T.1977]                      -0.1148      0.101     -1.132      0.258      -0.314       0.084\n",
      "C(year)[T.1978]                      -0.1405      0.104     -1.357      0.175      -0.343       0.062\n",
      "C(year)[T.1979]                      -0.1670      0.107     -1.563      0.118      -0.376       0.042\n",
      "C(year)[T.1980]                      -0.2003      0.108     -1.849      0.064      -0.413       0.012\n",
      "C(year)[T.1981]                      -0.2450      0.111     -2.203      0.028      -0.463      -0.027\n",
      "C(year)[T.1982]                      -0.2763      0.115     -2.396      0.017      -0.502      -0.050\n",
      "C(year)[T.1983]                      -0.4077      0.118     -3.447      0.001      -0.640      -0.176\n",
      "C(year)[T.1984]                      -0.4909      0.123     -3.989      0.000      -0.732      -0.250\n",
      "C(year)[T.1985]                      -0.5242      0.126     -4.145      0.000      -0.772      -0.276\n",
      "C(year)[T.1986]                      -0.3772      0.130     -2.897      0.004      -0.632      -0.122\n",
      "C(year)[T.1987]                      -0.2583      0.133     -1.946      0.052      -0.518       0.002\n",
      "C(year)[T.1988]                      -0.2103      0.136     -1.548      0.122      -0.477       0.056\n",
      "C(year)[T.1989]                      -0.1965      0.140     -1.407      0.159      -0.470       0.077\n",
      "C(year)[T.1990]                      -0.1241      0.140     -0.889      0.374      -0.398       0.150\n",
      "C(year)[T.1991]                      -0.3117      0.148     -2.100      0.036      -0.603      -0.021\n",
      "C(year)[T.1992]                      -0.2175      0.150     -1.448      0.148      -0.512       0.077\n",
      "C(year)[T.1993]                      -0.3626      0.151     -2.403      0.016      -0.658      -0.067\n",
      "C(year)[T.1994]                      -0.3273      0.153     -2.135      0.033      -0.628      -0.027\n",
      "C(year)[T.1995]                      -0.4114      0.158     -2.608      0.009      -0.721      -0.102\n",
      "C(year)[T.1996]                      -0.3800      0.160     -2.372      0.018      -0.694      -0.066\n",
      "C(year)[T.1997]                      -0.3237      0.161     -2.016      0.044      -0.638      -0.009\n",
      "C(year)[T.1998]                      -0.2896      0.163     -1.772      0.076      -0.610       0.031\n",
      "C(year)[T.1999]                      -0.2987      0.165     -1.810      0.070      -0.622       0.025\n",
      "C(brand)[T.Audi]                      0.3391      0.079      4.318      0.000       0.185       0.493\n",
      "C(brand)[T.BMW]                       1.2500      0.066     18.933      0.000       1.121       1.379\n",
      "C(brand)[T.Citroën]                   0.0385      0.064      0.604      0.546      -0.086       0.164\n",
      "C(brand)[T.Daihatsu]                 -1.8908      0.093    -20.279      0.000      -2.073      -1.708\n",
      "C(brand)[T.Fiat]                      0.1324      0.062      2.129      0.033       0.010       0.254\n",
      "C(brand)[T.Ford]                      0.4308      0.066      6.495      0.000       0.301       0.561\n",
      "C(brand)[T.Honda]                    -0.0663      0.069     -0.963      0.336      -0.201       0.069\n",
      "C(brand)[T.Hyundai]                  -1.2078      0.091    -13.225      0.000      -1.387      -1.029\n",
      "C(brand)[T.Innocenti]                -1.5915      0.184     -8.644      0.000      -1.952      -1.231\n",
      "C(brand)[T.Lancia]                   -0.6938      0.066    -10.590      0.000      -0.822      -0.565\n",
      "C(brand)[T.Mazda]                    -0.5570      0.078     -7.112      0.000      -0.710      -0.403\n",
      "C(brand)[T.Mercedes]                  1.9318      0.069     28.071      0.000       1.797       2.067\n",
      "C(brand)[T.Mitsubishi]               -0.8001      0.078    -10.286      0.000      -0.953      -0.648\n",
      "C(brand)[T.NissanDatsun]              0.1087      0.065      1.662      0.097      -0.020       0.237\n",
      "C(brand)[T.OpelVauxhall]              0.1819      0.066      2.743      0.006       0.052       0.312\n",
      "C(brand)[T.Peugeot]                   0.3781      0.064      5.928      0.000       0.253       0.503\n",
      "C(brand)[T.Renault]                   0.4264      0.062      6.902      0.000       0.305       0.548\n",
      "C(brand)[T.RoverTriumph]             -0.5540      0.067     -8.219      0.000      -0.686      -0.422\n",
      "C(brand)[T.Saab]                      0.0122      0.077      0.158      0.875      -0.139       0.163\n",
      "C(brand)[T.Seat]                     -0.6095      0.087     -7.029      0.000      -0.779      -0.440\n",
      "C(brand)[T.Skoda]                    -0.5198      0.109     -4.790      0.000      -0.733      -0.307\n",
      "C(brand)[T.Suzuki]                   -1.2152      0.085    -14.360      0.000      -1.381      -1.049\n",
      "C(brand)[T.Toyota]                   -0.0785      0.068     -1.153      0.249      -0.212       0.055\n",
      "C(brand)[T.Volkswagen]                0.4506      0.069      6.511      0.000       0.315       0.586\n",
      "C(brand)[T.Volvo]                     0.5539      0.072      7.689      0.000       0.413       0.695\n",
      "C(brand)[T.Talbot]                   -0.5677      0.102     -5.588      0.000      -0.767      -0.369\n",
      "C(brand)[T.Kia]                      -2.0625      0.132    -15.595      0.000      -2.322      -1.803\n",
      "C(brand)[T.Daewoo]                   -0.7605      0.115     -6.638      0.000      -0.985      -0.536\n",
      "C(brand)[T.Rover]                    -0.4990      0.126     -3.964      0.000      -0.746      -0.252\n",
      "C(brand)[T.MCC]                      -0.7572      0.624     -1.214      0.225      -1.979       0.465\n",
      "C(brand)[T.DAF]                       0.2415      0.126      1.912      0.056      -0.006       0.489\n",
      "C(brand)[T.Autobianchi]              -0.5020      0.199     -2.518      0.012      -0.893      -0.111\n",
      "C(brand)[T.Triumph]                  -0.5173      0.188     -2.750      0.006      -0.886      -0.149\n",
      "C(brand)[T.Princess]                 -1.0146      0.273     -3.721      0.000      -1.549      -0.480\n",
      "C(brand)[T.TalbotHillmanChrysler]    -0.9766      0.243     -4.023      0.000      -1.452      -0.501\n",
      "C(brand)[T.TalbotSimca]               0.4144      0.098      4.223      0.000       0.222       0.607\n",
      "C(brand)[T.TalbotMatra]              -1.7697      0.150    -11.833      0.000      -2.063      -1.477\n",
      "price                                -0.0540      0.005    -11.646      0.000      -0.063      -0.045\n",
      "horsepower                           -0.0170      0.002    -11.122      0.000      -0.020      -0.014\n",
      "fuel                                 -0.0719      0.013     -5.451      0.000      -0.098      -0.046\n",
      "width                                 0.0533      0.002     21.341      0.000       0.048       0.058\n",
      "domestic                              1.7841      0.027     66.975      0.000       1.732       1.836\n",
      "height                               -0.0147      0.003     -5.743      0.000      -0.020      -0.010\n",
      "weight                               -0.0008      0.000     -5.146      0.000      -0.001      -0.001\n",
      "logpop                                0.7517      0.197      3.823      0.000       0.366       1.137\n",
      "loggdp                                0.1071      0.051      2.112      0.035       0.008       0.206\n",
      "==============================================================================\n",
      "Omnibus:                      648.617   Durbin-Watson:                   0.604\n",
      "Prob(Omnibus):                  0.000   Jarque-Bera (JB):              777.159\n",
      "Skew:                          -0.589   Prob(JB):                    1.75e-169\n",
      "Kurtosis:                       3.488   Cond. No.                     4.25e+05\n",
      "==============================================================================\n",
      "\n",
      "Notes:\n",
      "[1] Standard Errors are heteroscedasticity robust (HC3)\n",
      "[2] The condition number is large, 4.25e+05. This might indicate that there are\n",
      "strong multicollinearity or other numerical problems.\n"
     ]
    }
   ],
   "source": [
    "import statsmodels.formula.api as smf\n",
    "\n",
    "# Construct market size, shares, and log-odds ratio\n",
    "df['logpop'] = np.log(df['pop'])\n",
    "df['loggdp'] = np.log(df['ngdp'])\n",
    "df['msize'] = df['pop'] / 4\n",
    "df['share'] = df['qu'] / df['msize']\n",
    "\n",
    "# Calculate the outside goods market share\n",
    "df['sum_share'] = df.groupby(['country', 'year'])['share'].transform('sum')\n",
    "df['share0'] = 1 - df['sum_share']\n",
    "\n",
    "# Generate log odds ratio\n",
    "df['lsj_ls0'] = np.log(df['share'] / df['share0'])\n",
    "\n",
    "# Run the fixed-effects OLS regression\n",
    "fixed_effects_model = smf.ols(formula='lsj_ls0 ~ price + horsepower + fuel + width + domestic + height + weight + logpop + loggdp + C(country) + C(year) + C(brand)', data=df).fit(cov_type='HC3')\n",
    "\n",
    "# Print regression results\n",
    "print(fixed_effects_model.summary())"
   ]
  },
  {
   "cell_type": "markdown",
   "id": "389de458-c91d-4c9b-b1ea-d79ed3a646a2",
   "metadata": {},
   "source": [
    "## (b) Interpretation: The OLS regression results indicate price, horsepower, fuel comsumption, and several other product characterisitcs signficantly impact the log-oods ration of market shares. The fixed effects for countries, years, and brands capture varations that are not directly explaiend by product characteristics. We can assume that higher prices reduce market share and domestics brands perform better. "
   ]
  },
  {
   "cell_type": "markdown",
   "id": "a27588bc-7f9c-46d2-9cc3-01a27343e870",
   "metadata": {},
   "source": [
    "# (c) IV estimation of the standard logic model:"
   ]
  },
  {
   "cell_type": "markdown",
   "id": "2e7d64fb-5488-4c51-b030-8385048054d6",
   "metadata": {},
   "source": [
    "## [i]:"
   ]
  },
  {
   "cell_type": "code",
   "execution_count": 4,
   "id": "8d48aacf-8abb-46ef-85dc-6ccb0a2fe8f4",
   "metadata": {},
   "outputs": [
    {
     "name": "stderr",
     "output_type": "stream",
     "text": [
      "C:\\Users\\gmoor\\AppData\\Local\\Temp\\ipykernel_14212\\2348775012.py:8: FutureWarning: The default of observed=False is deprecated and will be changed to True in a future version of pandas. Pass observed=False to retain current behavior or observed=True to adopt the future default and silence this warning.\n",
      "  df['numJ'] = df.groupby(group_cols)['ones'].transform('sum')\n",
      "C:\\Users\\gmoor\\AppData\\Local\\Temp\\ipykernel_14212\\2348775012.py:11: FutureWarning: The default of observed=False is deprecated and will be changed to True in a future version of pandas. Pass observed=False to retain current behavior or observed=True to adopt the future default and silence this warning.\n",
      "  df[f'sum_{col}'] = df.groupby(group_cols)[col].transform('sum')\n",
      "C:\\Users\\gmoor\\AppData\\Local\\Temp\\ipykernel_14212\\2348775012.py:11: FutureWarning: The default of observed=False is deprecated and will be changed to True in a future version of pandas. Pass observed=False to retain current behavior or observed=True to adopt the future default and silence this warning.\n",
      "  df[f'sum_{col}'] = df.groupby(group_cols)[col].transform('sum')\n",
      "C:\\Users\\gmoor\\AppData\\Local\\Temp\\ipykernel_14212\\2348775012.py:11: FutureWarning: The default of observed=False is deprecated and will be changed to True in a future version of pandas. Pass observed=False to retain current behavior or observed=True to adopt the future default and silence this warning.\n",
      "  df[f'sum_{col}'] = df.groupby(group_cols)[col].transform('sum')\n",
      "C:\\Users\\gmoor\\AppData\\Local\\Temp\\ipykernel_14212\\2348775012.py:11: FutureWarning: The default of observed=False is deprecated and will be changed to True in a future version of pandas. Pass observed=False to retain current behavior or observed=True to adopt the future default and silence this warning.\n",
      "  df[f'sum_{col}'] = df.groupby(group_cols)[col].transform('sum')\n",
      "C:\\Users\\gmoor\\AppData\\Local\\Temp\\ipykernel_14212\\2348775012.py:11: FutureWarning: The default of observed=False is deprecated and will be changed to True in a future version of pandas. Pass observed=False to retain current behavior or observed=True to adopt the future default and silence this warning.\n",
      "  df[f'sum_{col}'] = df.groupby(group_cols)[col].transform('sum')\n",
      "C:\\Users\\gmoor\\AppData\\Local\\Temp\\ipykernel_14212\\2348775012.py:11: FutureWarning: The default of observed=False is deprecated and will be changed to True in a future version of pandas. Pass observed=False to retain current behavior or observed=True to adopt the future default and silence this warning.\n",
      "  df[f'sum_{col}'] = df.groupby(group_cols)[col].transform('sum')\n",
      "C:\\Users\\gmoor\\AppData\\Local\\Temp\\ipykernel_14212\\2348775012.py:17: FutureWarning: The default of observed=False is deprecated and will be changed to True in a future version of pandas. Pass observed=False to retain current behavior or observed=True to adopt the future default and silence this warning.\n",
      "  df[f'mean_{col}'] = df.groupby(group_cols)[col].transform('mean')\n",
      "C:\\Users\\gmoor\\AppData\\Local\\Temp\\ipykernel_14212\\2348775012.py:18: FutureWarning: The default of observed=False is deprecated and will be changed to True in a future version of pandas. Pass observed=False to retain current behavior or observed=True to adopt the future default and silence this warning.\n",
      "  df[f'var_{col}'] = df.groupby(group_cols)[col].transform(lambda x: np.var(x, ddof=0))\n",
      "C:\\Users\\gmoor\\AppData\\Local\\Temp\\ipykernel_14212\\2348775012.py:17: FutureWarning: The default of observed=False is deprecated and will be changed to True in a future version of pandas. Pass observed=False to retain current behavior or observed=True to adopt the future default and silence this warning.\n",
      "  df[f'mean_{col}'] = df.groupby(group_cols)[col].transform('mean')\n",
      "C:\\Users\\gmoor\\AppData\\Local\\Temp\\ipykernel_14212\\2348775012.py:18: FutureWarning: The default of observed=False is deprecated and will be changed to True in a future version of pandas. Pass observed=False to retain current behavior or observed=True to adopt the future default and silence this warning.\n",
      "  df[f'var_{col}'] = df.groupby(group_cols)[col].transform(lambda x: np.var(x, ddof=0))\n",
      "C:\\Users\\gmoor\\AppData\\Local\\Temp\\ipykernel_14212\\2348775012.py:17: FutureWarning: The default of observed=False is deprecated and will be changed to True in a future version of pandas. Pass observed=False to retain current behavior or observed=True to adopt the future default and silence this warning.\n",
      "  df[f'mean_{col}'] = df.groupby(group_cols)[col].transform('mean')\n",
      "C:\\Users\\gmoor\\AppData\\Local\\Temp\\ipykernel_14212\\2348775012.py:18: FutureWarning: The default of observed=False is deprecated and will be changed to True in a future version of pandas. Pass observed=False to retain current behavior or observed=True to adopt the future default and silence this warning.\n",
      "  df[f'var_{col}'] = df.groupby(group_cols)[col].transform(lambda x: np.var(x, ddof=0))\n",
      "C:\\Users\\gmoor\\AppData\\Local\\Temp\\ipykernel_14212\\2348775012.py:17: FutureWarning: The default of observed=False is deprecated and will be changed to True in a future version of pandas. Pass observed=False to retain current behavior or observed=True to adopt the future default and silence this warning.\n",
      "  df[f'mean_{col}'] = df.groupby(group_cols)[col].transform('mean')\n",
      "C:\\Users\\gmoor\\AppData\\Local\\Temp\\ipykernel_14212\\2348775012.py:18: FutureWarning: The default of observed=False is deprecated and will be changed to True in a future version of pandas. Pass observed=False to retain current behavior or observed=True to adopt the future default and silence this warning.\n",
      "  df[f'var_{col}'] = df.groupby(group_cols)[col].transform(lambda x: np.var(x, ddof=0))\n",
      "C:\\Users\\gmoor\\AppData\\Local\\Temp\\ipykernel_14212\\2348775012.py:17: FutureWarning: The default of observed=False is deprecated and will be changed to True in a future version of pandas. Pass observed=False to retain current behavior or observed=True to adopt the future default and silence this warning.\n",
      "  df[f'mean_{col}'] = df.groupby(group_cols)[col].transform('mean')\n",
      "C:\\Users\\gmoor\\AppData\\Local\\Temp\\ipykernel_14212\\2348775012.py:18: FutureWarning: The default of observed=False is deprecated and will be changed to True in a future version of pandas. Pass observed=False to retain current behavior or observed=True to adopt the future default and silence this warning.\n",
      "  df[f'var_{col}'] = df.groupby(group_cols)[col].transform(lambda x: np.var(x, ddof=0))\n",
      "C:\\Users\\gmoor\\AppData\\Local\\Temp\\ipykernel_14212\\2348775012.py:17: FutureWarning: The default of observed=False is deprecated and will be changed to True in a future version of pandas. Pass observed=False to retain current behavior or observed=True to adopt the future default and silence this warning.\n",
      "  df[f'mean_{col}'] = df.groupby(group_cols)[col].transform('mean')\n",
      "C:\\Users\\gmoor\\AppData\\Local\\Temp\\ipykernel_14212\\2348775012.py:18: FutureWarning: The default of observed=False is deprecated and will be changed to True in a future version of pandas. Pass observed=False to retain current behavior or observed=True to adopt the future default and silence this warning.\n",
      "  df[f'var_{col}'] = df.groupby(group_cols)[col].transform(lambda x: np.var(x, ddof=0))\n"
     ]
    }
   ],
   "source": [
    "# Create the 'ones' column explicitly\n",
    "df['ones'] = 1\n",
    "\n",
    "# Group by country and year\n",
    "group_cols = ['country', 'year']\n",
    "\n",
    "# IV1 generation for each characteristic\n",
    "df['numJ'] = df.groupby(group_cols)['ones'].transform('sum')\n",
    "\n",
    "for col in ['horsepower', 'fuel', 'width', 'height', 'domestic', 'weight']:\n",
    "    df[f'sum_{col}'] = df.groupby(group_cols)[col].transform('sum')\n",
    "    df[f'IV1_{col}'] = df['numJ'] * df[col] - df[f'sum_{col}']\n",
    "    df.drop(columns=[f'sum_{col}'], inplace=True)\n",
    "\n",
    "# IV2 generation for each characteristic\n",
    "for col in ['horsepower', 'fuel', 'width', 'height', 'domestic', 'weight']:\n",
    "    df[f'mean_{col}'] = df.groupby(group_cols)[col].transform('mean')\n",
    "    df[f'var_{col}'] = df.groupby(group_cols)[col].transform(lambda x: np.var(x, ddof=0))\n",
    "    df[f'IV2_{col}'] = df['numJ'] * (df[col] - df[f'mean_{col}']) ** 2 + df['numJ'] * df[f'var_{col}']\n",
    "    df.drop(columns=[f'mean_{col}', f'var_{col}'], inplace=True)"
   ]
  },
  {
   "cell_type": "markdown",
   "id": "138965c1-5e55-4688-b036-d42058fa42a9",
   "metadata": {},
   "source": [
    "## [ii]:"
   ]
  },
  {
   "cell_type": "code",
   "execution_count": 5,
   "id": "0c38616c-bf9b-4bf9-b55a-8d816a038f93",
   "metadata": {},
   "outputs": [
    {
     "name": "stdout",
     "output_type": "stream",
     "text": [
      "                          IV-2SLS Estimation Summary                          \n",
      "==============================================================================\n",
      "Dep. Variable:                lsj_ls0   R-squared:                      0.9759\n",
      "Estimator:                    IV-2SLS   Adj. R-squared:                 0.9759\n",
      "No. Observations:               11483   F-statistic:                 4.739e+05\n",
      "Date:                Mon, Sep 30 2024   P-value (F-stat)                0.0000\n",
      "Time:                        22:31:41   Distribution:                  chi2(9)\n",
      "Cov. Estimator:                robust                                         \n",
      "                                                                              \n",
      "                             Parameter Estimates                              \n",
      "==============================================================================\n",
      "            Parameter  Std. Err.     T-stat    P-value    Lower CI    Upper CI\n",
      "------------------------------------------------------------------------------\n",
      "horsepower    -0.0403     0.0016    -24.631     0.0000     -0.0435     -0.0371\n",
      "fuel          -0.1257     0.0090    -13.986     0.0000     -0.1433     -0.1081\n",
      "width          0.0407     0.0020     20.643     0.0000      0.0368      0.0445\n",
      "domestic       1.8663     0.0277     67.311     0.0000      1.8120      1.9206\n",
      "height        -0.0212     0.0021    -10.342     0.0000     -0.0252     -0.0172\n",
      "weight         0.0009     0.0002     5.8332     0.0000      0.0006      0.0012\n",
      "logpop        -0.5107     0.0133    -38.260     0.0000     -0.5369     -0.4846\n",
      "loggdp        -0.0074     0.0053    -1.3823     0.1669     -0.0179      0.0031\n",
      "price          0.0074     0.0054     1.3780     0.1682     -0.0031      0.0179\n",
      "==============================================================================\n",
      "\n",
      "Endogenous: price\n",
      "Instruments: IV1_horsepower, IV1_fuel, IV1_width, IV1_domestic, IV1_height, IV1_weight, IV2_horsepower, IV2_fuel, IV2_width, IV2_domestic, IV2_height, IV2_weight\n",
      "Robust Covariance (Heteroskedastic)\n",
      "Debiased: False\n"
     ]
    }
   ],
   "source": [
    "from linearmodels.iv import IV2SLS\n",
    "\n",
    "# Define the endogenous variable and instruments\n",
    "endog = df['price']\n",
    "exog = df[['horsepower', 'fuel', 'width', 'domestic', 'height', 'weight', 'logpop', 'loggdp']]\n",
    "iv = df[['IV1_horsepower', 'IV1_fuel', 'IV1_width', 'IV1_domestic', 'IV1_height', 'IV1_weight',\n",
    "         'IV2_horsepower', 'IV2_fuel', 'IV2_width', 'IV2_domestic', 'IV2_height', 'IV2_weight']]\n",
    "\n",
    "# Run 2SLS\n",
    "iv_model = IV2SLS(df['lsj_ls0'], exog, endog, iv).fit(cov_type='robust')\n",
    "\n",
    "# Print IV regression results\n",
    "print(iv_model.summary)"
   ]
  },
  {
   "cell_type": "markdown",
   "id": "ef92eb08-be30-4b22-8a75-7b8590412dfc",
   "metadata": {},
   "source": [
    "## (c) Interpretation: IV-2SLS regression results indicate that price does not significantly affect the logg-odds ratio of market shares, unlike the OLS regression results. Product characteristics like fuel efficincy, horsepower, width, and whether the product is dommestic or not are a critical role in determining the market share."
   ]
  },
  {
   "cell_type": "markdown",
   "id": "cd200199-b75e-42fd-b8ad-5aa879d918ac",
   "metadata": {},
   "source": [
    "# (d) Willingness to pay (WTP) for fuel efficiency:"
   ]
  },
  {
   "cell_type": "code",
   "execution_count": 6,
   "id": "49f4ce16-623e-44e8-b688-fc69b9b610c0",
   "metadata": {},
   "outputs": [
    {
     "name": "stdout",
     "output_type": "stream",
     "text": [
      "WTP = 17.02297811927135\n"
     ]
    }
   ],
   "source": [
    "# Extract coefficients\n",
    "alpha_price = iv_model.params['price']\n",
    "beta_fuel = iv_model.params['fuel']\n",
    "\n",
    "# Calculate WTP\n",
    "wtp = -beta_fuel / alpha_price\n",
    "print(\"WTP =\", wtp)"
   ]
  },
  {
   "cell_type": "markdown",
   "id": "31105e4c-de63-456f-aca2-3be40223aec8",
   "metadata": {},
   "source": [
    "# (e) Price elasticity of demand:"
   ]
  },
  {
   "cell_type": "code",
   "execution_count": 7,
   "id": "74ab7c73-d9bc-4a68-a3d2-810188d342b2",
   "metadata": {},
   "outputs": [
    {
     "name": "stdout",
     "output_type": "stream",
     "text": [
      "count    11483.000000\n",
      "mean        -0.136380\n",
      "std          0.065894\n",
      "min         -1.109948\n",
      "25%         -0.167440\n",
      "50%         -0.120858\n",
      "75%         -0.090494\n",
      "max         -0.038727\n",
      "Name: elasticity, dtype: float64\n",
      "          count      mean       std       min       25%       50%       75%  \\\n",
      "country                                                                       \n",
      "Belgium  2641.0 -0.122916  0.057286 -0.584867 -0.148144 -0.108314 -0.080914   \n",
      "France   2252.0 -0.126195  0.054265 -0.605196 -0.151067 -0.113383 -0.088205   \n",
      "Germany  2281.0 -0.115675  0.047870 -0.434030 -0.139046 -0.102258 -0.081249   \n",
      "Italy    2020.0 -0.139380  0.068858 -0.754498 -0.172105 -0.121909 -0.093703   \n",
      "UK       2289.0 -0.179921  0.077428 -1.109948 -0.218538 -0.162612 -0.128583   \n",
      "\n",
      "              max  \n",
      "country            \n",
      "Belgium -0.041893  \n",
      "France  -0.044899  \n",
      "Germany -0.042839  \n",
      "Italy   -0.038727  \n",
      "UK      -0.055180  \n"
     ]
    },
    {
     "name": "stderr",
     "output_type": "stream",
     "text": [
      "C:\\Users\\gmoor\\AppData\\Local\\Temp\\ipykernel_14212\\3733935762.py:8: FutureWarning: The default of observed=False is deprecated and will be changed to True in a future version of pandas. Pass observed=False to retain current behavior or observed=True to adopt the future default and silence this warning.\n",
      "  print(df.groupby('country')['elasticity'].describe())\n"
     ]
    }
   ],
   "source": [
    "# Calculate price elasticity for each observation\n",
    "df['elasticity'] = -alpha_price * (1 - df['share']) * df['price']\n",
    "\n",
    "# Summary statistics for elasticity\n",
    "print(df['elasticity'].describe())\n",
    "\n",
    "# Grouped summary by country\n",
    "print(df.groupby('country')['elasticity'].describe())"
   ]
  }
 ],
 "metadata": {
  "kernelspec": {
   "display_name": "Python 3 (ipykernel)",
   "language": "python",
   "name": "python3"
  },
  "language_info": {
   "codemirror_mode": {
    "name": "ipython",
    "version": 3
   },
   "file_extension": ".py",
   "mimetype": "text/x-python",
   "name": "python",
   "nbconvert_exporter": "python",
   "pygments_lexer": "ipython3",
   "version": "3.11.7"
  }
 },
 "nbformat": 4,
 "nbformat_minor": 5
}
